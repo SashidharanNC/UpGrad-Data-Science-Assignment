{
 "cells": [
  {
   "cell_type": "markdown",
   "metadata": {},
   "source": [
    "## Problem Statement\n",
    "The Portuguese Bank had run a telemarketing campaign in the past, making sales calls for a term-deposit product. Whether a prospect had bought the product or not is mentioned in the column named 'response'.\n",
    "\n",
    "The marketing team wants to launch another campaign, and they want to learn from the past one. You, as an analyst, decide to build a supervised model in R/Python and achieve the following goals:\n",
    "• Reduce the marketing cost by X% and acquire Y% of the prospects (compared to random calling), where X and Y are to be maximized\n",
    "• Present the financial benefit of this project to the marketing team\n",
    "Data\n",
    "The data and the dictionary can be found here(https://archive.ics.uci.edu/ml/datasets/Bank+Marketing ). Please use the bank-additional-full.csv data set.\n",
    "\n",
    "Please share your response here : https://goo.gl/forms/y7YZThccjkmBcK8F3\n",
    "\n",
    "Warm Regards"
   ]
  },
  {
   "cell_type": "code",
   "execution_count": 3,
   "metadata": {},
   "outputs": [],
   "source": [
    "import pandas as pd"
   ]
  },
  {
   "cell_type": "code",
   "execution_count": 4,
   "metadata": {},
   "outputs": [
    {
     "data": {
      "text/html": [
       "<div>\n",
       "<style scoped>\n",
       "    .dataframe tbody tr th:only-of-type {\n",
       "        vertical-align: middle;\n",
       "    }\n",
       "\n",
       "    .dataframe tbody tr th {\n",
       "        vertical-align: top;\n",
       "    }\n",
       "\n",
       "    .dataframe thead th {\n",
       "        text-align: right;\n",
       "    }\n",
       "</style>\n",
       "<table border=\"1\" class=\"dataframe\">\n",
       "  <thead>\n",
       "    <tr style=\"text-align: right;\">\n",
       "      <th></th>\n",
       "      <th>age</th>\n",
       "      <th>duration</th>\n",
       "      <th>campaign</th>\n",
       "      <th>pdays</th>\n",
       "      <th>previous</th>\n",
       "      <th>emp.var.rate</th>\n",
       "      <th>cons.price.idx</th>\n",
       "      <th>cons.conf.idx</th>\n",
       "      <th>euribor3m</th>\n",
       "      <th>nr.employed</th>\n",
       "    </tr>\n",
       "  </thead>\n",
       "  <tbody>\n",
       "    <tr>\n",
       "      <th>count</th>\n",
       "      <td>41188.00000</td>\n",
       "      <td>41188.000000</td>\n",
       "      <td>41188.000000</td>\n",
       "      <td>41188.000000</td>\n",
       "      <td>41188.000000</td>\n",
       "      <td>41188.000000</td>\n",
       "      <td>41188.000000</td>\n",
       "      <td>41188.000000</td>\n",
       "      <td>41188.000000</td>\n",
       "      <td>41188.000000</td>\n",
       "    </tr>\n",
       "    <tr>\n",
       "      <th>mean</th>\n",
       "      <td>40.02406</td>\n",
       "      <td>258.285010</td>\n",
       "      <td>2.567593</td>\n",
       "      <td>962.475454</td>\n",
       "      <td>0.172963</td>\n",
       "      <td>0.081886</td>\n",
       "      <td>93.575664</td>\n",
       "      <td>-40.502600</td>\n",
       "      <td>3.621291</td>\n",
       "      <td>5167.035911</td>\n",
       "    </tr>\n",
       "    <tr>\n",
       "      <th>std</th>\n",
       "      <td>10.42125</td>\n",
       "      <td>259.279249</td>\n",
       "      <td>2.770014</td>\n",
       "      <td>186.910907</td>\n",
       "      <td>0.494901</td>\n",
       "      <td>1.570960</td>\n",
       "      <td>0.578840</td>\n",
       "      <td>4.628198</td>\n",
       "      <td>1.734447</td>\n",
       "      <td>72.251528</td>\n",
       "    </tr>\n",
       "    <tr>\n",
       "      <th>min</th>\n",
       "      <td>17.00000</td>\n",
       "      <td>0.000000</td>\n",
       "      <td>1.000000</td>\n",
       "      <td>0.000000</td>\n",
       "      <td>0.000000</td>\n",
       "      <td>-3.400000</td>\n",
       "      <td>92.201000</td>\n",
       "      <td>-50.800000</td>\n",
       "      <td>0.634000</td>\n",
       "      <td>4963.600000</td>\n",
       "    </tr>\n",
       "    <tr>\n",
       "      <th>25%</th>\n",
       "      <td>32.00000</td>\n",
       "      <td>102.000000</td>\n",
       "      <td>1.000000</td>\n",
       "      <td>999.000000</td>\n",
       "      <td>0.000000</td>\n",
       "      <td>-1.800000</td>\n",
       "      <td>93.075000</td>\n",
       "      <td>-42.700000</td>\n",
       "      <td>1.344000</td>\n",
       "      <td>5099.100000</td>\n",
       "    </tr>\n",
       "    <tr>\n",
       "      <th>50%</th>\n",
       "      <td>38.00000</td>\n",
       "      <td>180.000000</td>\n",
       "      <td>2.000000</td>\n",
       "      <td>999.000000</td>\n",
       "      <td>0.000000</td>\n",
       "      <td>1.100000</td>\n",
       "      <td>93.749000</td>\n",
       "      <td>-41.800000</td>\n",
       "      <td>4.857000</td>\n",
       "      <td>5191.000000</td>\n",
       "    </tr>\n",
       "    <tr>\n",
       "      <th>75%</th>\n",
       "      <td>47.00000</td>\n",
       "      <td>319.000000</td>\n",
       "      <td>3.000000</td>\n",
       "      <td>999.000000</td>\n",
       "      <td>0.000000</td>\n",
       "      <td>1.400000</td>\n",
       "      <td>93.994000</td>\n",
       "      <td>-36.400000</td>\n",
       "      <td>4.961000</td>\n",
       "      <td>5228.100000</td>\n",
       "    </tr>\n",
       "    <tr>\n",
       "      <th>max</th>\n",
       "      <td>98.00000</td>\n",
       "      <td>4918.000000</td>\n",
       "      <td>56.000000</td>\n",
       "      <td>999.000000</td>\n",
       "      <td>7.000000</td>\n",
       "      <td>1.400000</td>\n",
       "      <td>94.767000</td>\n",
       "      <td>-26.900000</td>\n",
       "      <td>5.045000</td>\n",
       "      <td>5228.100000</td>\n",
       "    </tr>\n",
       "  </tbody>\n",
       "</table>\n",
       "</div>"
      ],
      "text/plain": [
       "               age      duration      campaign         pdays      previous  \\\n",
       "count  41188.00000  41188.000000  41188.000000  41188.000000  41188.000000   \n",
       "mean      40.02406    258.285010      2.567593    962.475454      0.172963   \n",
       "std       10.42125    259.279249      2.770014    186.910907      0.494901   \n",
       "min       17.00000      0.000000      1.000000      0.000000      0.000000   \n",
       "25%       32.00000    102.000000      1.000000    999.000000      0.000000   \n",
       "50%       38.00000    180.000000      2.000000    999.000000      0.000000   \n",
       "75%       47.00000    319.000000      3.000000    999.000000      0.000000   \n",
       "max       98.00000   4918.000000     56.000000    999.000000      7.000000   \n",
       "\n",
       "       emp.var.rate  cons.price.idx  cons.conf.idx     euribor3m   nr.employed  \n",
       "count  41188.000000    41188.000000   41188.000000  41188.000000  41188.000000  \n",
       "mean       0.081886       93.575664     -40.502600      3.621291   5167.035911  \n",
       "std        1.570960        0.578840       4.628198      1.734447     72.251528  \n",
       "min       -3.400000       92.201000     -50.800000      0.634000   4963.600000  \n",
       "25%       -1.800000       93.075000     -42.700000      1.344000   5099.100000  \n",
       "50%        1.100000       93.749000     -41.800000      4.857000   5191.000000  \n",
       "75%        1.400000       93.994000     -36.400000      4.961000   5228.100000  \n",
       "max        1.400000       94.767000     -26.900000      5.045000   5228.100000  "
      ]
     },
     "execution_count": 4,
     "metadata": {},
     "output_type": "execute_result"
    }
   ],
   "source": [
    "data = pd.read_csv('bank-additional-full.csv',sep = \";\")\n",
    "data.describe()\n",
    "#print(data)\n",
    "\n",
    "#print(data[1])\n"
   ]
  },
  {
   "cell_type": "code",
   "execution_count": 5,
   "metadata": {},
   "outputs": [
    {
     "data": {
      "text/plain": [
       "21"
      ]
     },
     "execution_count": 5,
     "metadata": {},
     "output_type": "execute_result"
    }
   ],
   "source": [
    "data.shape[1]"
   ]
  },
  {
   "cell_type": "code",
   "execution_count": 6,
   "metadata": {},
   "outputs": [
    {
     "data": {
      "text/plain": [
       "2"
      ]
     },
     "execution_count": 6,
     "metadata": {},
     "output_type": "execute_result"
    }
   ],
   "source": [
    "len(data.shape)"
   ]
  },
  {
   "cell_type": "code",
   "execution_count": 7,
   "metadata": {},
   "outputs": [
    {
     "data": {
      "text/plain": [
       "41188"
      ]
     },
     "execution_count": 7,
     "metadata": {},
     "output_type": "execute_result"
    }
   ],
   "source": [
    "data.shape[0]"
   ]
  },
  {
   "cell_type": "code",
   "execution_count": 8,
   "metadata": {},
   "outputs": [
    {
     "name": "stdout",
     "output_type": "stream",
     "text": [
      "   age        job  marital    education  default housing loan    contact  \\\n",
      "0   56  housemaid  married     basic.4y       no      no   no  telephone   \n",
      "1   57   services  married  high.school  unknown      no   no  telephone   \n",
      "2   37   services  married  high.school       no     yes   no  telephone   \n",
      "3   40     admin.  married     basic.6y       no      no   no  telephone   \n",
      "4   56   services  married  high.school       no      no  yes  telephone   \n",
      "\n",
      "  month day_of_week ...  campaign  pdays  previous     poutcome emp.var.rate  \\\n",
      "0   may         mon ...         1    999         0  nonexistent          1.1   \n",
      "1   may         mon ...         1    999         0  nonexistent          1.1   \n",
      "2   may         mon ...         1    999         0  nonexistent          1.1   \n",
      "3   may         mon ...         1    999         0  nonexistent          1.1   \n",
      "4   may         mon ...         1    999         0  nonexistent          1.1   \n",
      "\n",
      "   cons.price.idx  cons.conf.idx  euribor3m  nr.employed   y  \n",
      "0          93.994          -36.4      4.857       5191.0  no  \n",
      "1          93.994          -36.4      4.857       5191.0  no  \n",
      "2          93.994          -36.4      4.857       5191.0  no  \n",
      "3          93.994          -36.4      4.857       5191.0  no  \n",
      "4          93.994          -36.4      4.857       5191.0  no  \n",
      "\n",
      "[5 rows x 21 columns]\n"
     ]
    }
   ],
   "source": [
    "print(data[:5])"
   ]
  },
  {
   "cell_type": "code",
   "execution_count": 9,
   "metadata": {},
   "outputs": [
    {
     "data": {
      "text/plain": [
       "Index(['age', 'job', 'marital', 'education', 'default', 'housing', 'loan',\n",
       "       'contact', 'month', 'day_of_week', 'duration', 'campaign', 'pdays',\n",
       "       'previous', 'poutcome', 'emp.var.rate', 'cons.price.idx',\n",
       "       'cons.conf.idx', 'euribor3m', 'nr.employed', 'y'],\n",
       "      dtype='object')"
      ]
     },
     "execution_count": 9,
     "metadata": {},
     "output_type": "execute_result"
    }
   ],
   "source": [
    "#print(data.columns.values.tolist)\n",
    "data.keys()"
   ]
  },
  {
   "cell_type": "code",
   "execution_count": 10,
   "metadata": {},
   "outputs": [
    {
     "name": "stdout",
     "output_type": "stream",
     "text": [
      "0         no\n",
      "1         no\n",
      "2         no\n",
      "3         no\n",
      "4         no\n",
      "5         no\n",
      "6         no\n",
      "7         no\n",
      "8         no\n",
      "9         no\n",
      "10        no\n",
      "11        no\n",
      "12        no\n",
      "13        no\n",
      "14        no\n",
      "15        no\n",
      "16        no\n",
      "17        no\n",
      "18        no\n",
      "19        no\n",
      "20        no\n",
      "21        no\n",
      "22        no\n",
      "23        no\n",
      "24        no\n",
      "25        no\n",
      "26        no\n",
      "27        no\n",
      "28        no\n",
      "29        no\n",
      "        ... \n",
      "41158    yes\n",
      "41159    yes\n",
      "41160    yes\n",
      "41161     no\n",
      "41162     no\n",
      "41163    yes\n",
      "41164    yes\n",
      "41165    yes\n",
      "41166    yes\n",
      "41167     no\n",
      "41168     no\n",
      "41169     no\n",
      "41170     no\n",
      "41171    yes\n",
      "41172    yes\n",
      "41173    yes\n",
      "41174    yes\n",
      "41175     no\n",
      "41176     no\n",
      "41177     no\n",
      "41178    yes\n",
      "41179     no\n",
      "41180     no\n",
      "41181    yes\n",
      "41182     no\n",
      "41183    yes\n",
      "41184     no\n",
      "41185     no\n",
      "41186    yes\n",
      "41187     no\n",
      "Name: y, Length: 41188, dtype: object\n"
     ]
    }
   ],
   "source": [
    "print(data['y'])"
   ]
  },
  {
   "cell_type": "code",
   "execution_count": 11,
   "metadata": {},
   "outputs": [],
   "source": [
    "import numpy as np\n",
    "response = data[\"y\"]\n",
    "#response.describe\n",
    "#response.shape[0]\n",
    "#for i in range(response.shape[0]):\n",
    " #      print(i)"
   ]
  },
  {
   "cell_type": "code",
   "execution_count": 12,
   "metadata": {},
   "outputs": [
    {
     "data": {
      "image/png": "[encoded data removed]",
      "text/plain": [
       "<Figure size 432x288 with 1 Axes>"
      ]
     },
     "metadata": {
      "needs_background": "light"
     },
     "output_type": "display_data"
    }
   ],
   "source": [
    "import plotly.plotly as py\n",
    "import plotly.tools as tls\n",
    "\n",
    "import matplotlib.pyplot as plt\n",
    "import numpy as np\n",
    "\n",
    "def plot_yes_no(response):\n",
    "    global binary\n",
    "    binary = []\n",
    "    for i in range(response.shape[0]):\n",
    "       if(response[i] == \"yes\"): binary.append(1) \n",
    "       elif(response[i] == \"no\"): binary.append(0)\n",
    "       else : print(\"Error\")\n",
    "    plt.hist(binary)\n",
    "    plt.title(\"Gaussian Histogram\")\n",
    "    plt.xlabel(\"Value\")\n",
    "    plt.ylabel(\"Frequency\")\n",
    "    plt.show()\n",
    "\n",
    "    #fig = plt.gcf()\n",
    "    #plotly_fig = tls.mpl_to_plotly( fig )\n",
    "    #py.iplot(plotly_fig, filename='mpl-basic-histogram')\n",
    "    \n",
    "plot_yes_no(response)"
   ]
  },
  {
   "cell_type": "code",
   "execution_count": 13,
   "metadata": {},
   "outputs": [
    {
     "data": {
      "image/png": "[encoded data removed]",
      "text/plain": [
       "<Figure size 432x288 with 1 Axes>"
      ]
     },
     "metadata": {
      "needs_background": "light"
     },
     "output_type": "display_data"
    }
   ],
   "source": [
    "plt.scatter(data['age'], data['y'])\n",
    "plt.show()"
   ]
  },
  {
   "cell_type": "code",
   "execution_count": 14,
   "metadata": {},
   "outputs": [
    {
     "data": {
      "image/png": "[encoded data removed]",
      "text/plain": [
       "<Figure size 576x576 with 1 Axes>"
      ]
     },
     "metadata": {
      "needs_background": "light"
     },
     "output_type": "display_data"
    },
    {
     "data": {
      "image/png": "[encoded data removed]",
      "text/plain": [
       "<Figure size 576x576 with 1 Axes>"
      ]
     },
     "metadata": {
      "needs_background": "light"
     },
     "output_type": "display_data"
    },
    {
     "data": {
      "image/png": "[encoded data removed]",
      "text/plain": [
       "<Figure size 576x576 with 1 Axes>"
      ]
     },
     "metadata": {
      "needs_background": "light"
     },
     "output_type": "display_data"
    },
    {
     "data": {
      "image/png": "[encoded data removed]",
      "text/plain": [
       "<Figure size 576x576 with 1 Axes>"
      ]
     },
     "metadata": {
      "needs_background": "light"
     },
     "output_type": "display_data"
    },
    {
     "data": {
      "image/png": "[encoded data removed]",
      "text/plain": [
       "<Figure size 576x576 with 1 Axes>"
      ]
     },
     "metadata": {
      "needs_background": "light"
     },
     "output_type": "display_data"
    },
    {
     "data": {
      "image/png": "[encoded data removed]",
      "text/plain": [
       "<Figure size 576x576 with 1 Axes>"
      ]
     },
     "metadata": {
      "needs_background": "light"
     },
     "output_type": "display_data"
    },
    {
     "data": {
      "image/png": "[encoded data removed]",
      "text/plain": [
       "<Figure size 576x576 with 1 Axes>"
      ]
     },
     "metadata": {
      "needs_background": "light"
     },
     "output_type": "display_data"
    },
    {
     "data": {
      "image/png": "[encoded data removed]",
      "text/plain": [
       "<Figure size 576x576 with 1 Axes>"
      ]
     },
     "metadata": {
      "needs_background": "light"
     },
     "output_type": "display_data"
    },
    {
     "data": {
      "image/png": "[encoded data removed]",
      "text/plain": [
       "<Figure size 576x576 with 1 Axes>"
      ]
     },
     "metadata": {
      "needs_background": "light"
     },
     "output_type": "display_data"
    },
    {
     "data": {
      "image/png": "[encoded data removed]",
      "text/plain": [
       "<Figure size 576x576 with 1 Axes>"
      ]
     },
     "metadata": {
      "needs_background": "light"
     },
     "output_type": "display_data"
    }
   ],
   "source": [
    "import seaborn as sns \n",
    "numeric_vars=[\"age\", \"campaign\", \"pdays\", \"previous\", \"duration\", \"emp.var.rate\", \"cons.price.idx\", \"cons.conf.idx\", \"euribor3m\", \"nr.employed\"]\n",
    "categorical_vars=[i for i in data.columns if i not in numeric_vars]\n",
    "categorical_vars.remove(\"y\")\n",
    "target=\"y\"\n",
    "\n",
    "for i in numeric_vars:\n",
    "    plt.figure(figsize=(8,8))\n",
    "    sns.boxplot(x=target,y=i,data=data)\n",
    "    plt.show()"
   ]
  },
  {
   "cell_type": "code",
   "execution_count": 15,
   "metadata": {},
   "outputs": [
    {
     "data": {
      "text/plain": [
       "Index(['age', 'job', 'marital', 'education', 'default', 'housing', 'loan',\n",
       "       'contact', 'month', 'day_of_week', 'duration', 'campaign', 'pdays',\n",
       "       'previous', 'poutcome', 'emp.var.rate', 'cons.price.idx',\n",
       "       'cons.conf.idx', 'euribor3m', 'nr.employed', 'y'],\n",
       "      dtype='object')"
      ]
     },
     "execution_count": 15,
     "metadata": {},
     "output_type": "execute_result"
    }
   ],
   "source": [
    "data.keys()"
   ]
  },
  {
   "cell_type": "code",
   "execution_count": 16,
   "metadata": {},
   "outputs": [
    {
     "name": "stdout",
     "output_type": "stream",
     "text": [
      "0         261\n",
      "1         149\n",
      "2         226\n",
      "3         151\n",
      "4         307\n",
      "5         198\n",
      "6         139\n",
      "7         217\n",
      "8         380\n",
      "9          50\n",
      "10         55\n",
      "11        222\n",
      "12        137\n",
      "13        293\n",
      "14        146\n",
      "15        174\n",
      "16        312\n",
      "17        440\n",
      "18        353\n",
      "19        195\n",
      "20         38\n",
      "21        262\n",
      "22        342\n",
      "23        181\n",
      "24        172\n",
      "25         99\n",
      "26         93\n",
      "27        233\n",
      "28        255\n",
      "29        362\n",
      "         ... \n",
      "41158     363\n",
      "41159     514\n",
      "41160     843\n",
      "41161     510\n",
      "41162     347\n",
      "41163     385\n",
      "41164    1868\n",
      "41165     403\n",
      "41166     651\n",
      "41167     236\n",
      "41168     144\n",
      "41169     154\n",
      "41170     293\n",
      "41171     112\n",
      "41172     353\n",
      "41173     329\n",
      "41174     208\n",
      "41175     180\n",
      "41176     360\n",
      "41177     124\n",
      "41178     483\n",
      "41179     151\n",
      "41180     254\n",
      "41181     281\n",
      "41182     112\n",
      "41183     334\n",
      "41184     383\n",
      "41185     189\n",
      "41186     442\n",
      "41187     239\n",
      "Name: duration, Length: 41188, dtype: int64\n"
     ]
    }
   ],
   "source": [
    "duration = data[\"duration\"]\n",
    "print(duration)"
   ]
  },
  {
   "cell_type": "code",
   "execution_count": 17,
   "metadata": {},
   "outputs": [],
   "source": [
    "import pandas as pd\n",
    "from sklearn.feature_extraction import DictVectorizer\n",
    "import matplotlib.pyplot as plt\n",
    "import seaborn as sns\n",
    "%matplotlib inline\n",
    "from pandas.plotting import scatter_matrix\n",
    "data_dict = data.T.to_dict().values()"
   ]
  },
  {
   "cell_type": "code",
   "execution_count": 18,
   "metadata": {},
   "outputs": [
    {
     "data": {
      "text/html": [
       "<div>\n",
       "<style scoped>\n",
       "    .dataframe tbody tr th:only-of-type {\n",
       "        vertical-align: middle;\n",
       "    }\n",
       "\n",
       "    .dataframe tbody tr th {\n",
       "        vertical-align: top;\n",
       "    }\n",
       "\n",
       "    .dataframe thead th {\n",
       "        text-align: right;\n",
       "    }\n",
       "</style>\n",
       "<table border=\"1\" class=\"dataframe\">\n",
       "  <thead>\n",
       "    <tr style=\"text-align: right;\">\n",
       "      <th></th>\n",
       "      <th>age</th>\n",
       "      <th>campaign</th>\n",
       "      <th>cons.conf.idx</th>\n",
       "      <th>cons.price.idx</th>\n",
       "      <th>contact=cellular</th>\n",
       "      <th>contact=telephone</th>\n",
       "      <th>day_of_week=fri</th>\n",
       "      <th>day_of_week=mon</th>\n",
       "      <th>day_of_week=thu</th>\n",
       "      <th>day_of_week=tue</th>\n",
       "      <th>...</th>\n",
       "      <th>month=oct</th>\n",
       "      <th>month=sep</th>\n",
       "      <th>nr.employed</th>\n",
       "      <th>pdays</th>\n",
       "      <th>poutcome=failure</th>\n",
       "      <th>poutcome=nonexistent</th>\n",
       "      <th>poutcome=success</th>\n",
       "      <th>previous</th>\n",
       "      <th>y=no</th>\n",
       "      <th>y=yes</th>\n",
       "    </tr>\n",
       "  </thead>\n",
       "  <tbody>\n",
       "    <tr>\n",
       "      <th>0</th>\n",
       "      <td>56.0</td>\n",
       "      <td>1.0</td>\n",
       "      <td>-36.4</td>\n",
       "      <td>93.994</td>\n",
       "      <td>0.0</td>\n",
       "      <td>1.0</td>\n",
       "      <td>0.0</td>\n",
       "      <td>1.0</td>\n",
       "      <td>0.0</td>\n",
       "      <td>0.0</td>\n",
       "      <td>...</td>\n",
       "      <td>0.0</td>\n",
       "      <td>0.0</td>\n",
       "      <td>5191.0</td>\n",
       "      <td>999.0</td>\n",
       "      <td>0.0</td>\n",
       "      <td>1.0</td>\n",
       "      <td>0.0</td>\n",
       "      <td>0.0</td>\n",
       "      <td>1.0</td>\n",
       "      <td>0.0</td>\n",
       "    </tr>\n",
       "    <tr>\n",
       "      <th>1</th>\n",
       "      <td>57.0</td>\n",
       "      <td>1.0</td>\n",
       "      <td>-36.4</td>\n",
       "      <td>93.994</td>\n",
       "      <td>0.0</td>\n",
       "      <td>1.0</td>\n",
       "      <td>0.0</td>\n",
       "      <td>1.0</td>\n",
       "      <td>0.0</td>\n",
       "      <td>0.0</td>\n",
       "      <td>...</td>\n",
       "      <td>0.0</td>\n",
       "      <td>0.0</td>\n",
       "      <td>5191.0</td>\n",
       "      <td>999.0</td>\n",
       "      <td>0.0</td>\n",
       "      <td>1.0</td>\n",
       "      <td>0.0</td>\n",
       "      <td>0.0</td>\n",
       "      <td>1.0</td>\n",
       "      <td>0.0</td>\n",
       "    </tr>\n",
       "    <tr>\n",
       "      <th>2</th>\n",
       "      <td>37.0</td>\n",
       "      <td>1.0</td>\n",
       "      <td>-36.4</td>\n",
       "      <td>93.994</td>\n",
       "      <td>0.0</td>\n",
       "      <td>1.0</td>\n",
       "      <td>0.0</td>\n",
       "      <td>1.0</td>\n",
       "      <td>0.0</td>\n",
       "      <td>0.0</td>\n",
       "      <td>...</td>\n",
       "      <td>0.0</td>\n",
       "      <td>0.0</td>\n",
       "      <td>5191.0</td>\n",
       "      <td>999.0</td>\n",
       "      <td>0.0</td>\n",
       "      <td>1.0</td>\n",
       "      <td>0.0</td>\n",
       "      <td>0.0</td>\n",
       "      <td>1.0</td>\n",
       "      <td>0.0</td>\n",
       "    </tr>\n",
       "    <tr>\n",
       "      <th>3</th>\n",
       "      <td>40.0</td>\n",
       "      <td>1.0</td>\n",
       "      <td>-36.4</td>\n",
       "      <td>93.994</td>\n",
       "      <td>0.0</td>\n",
       "      <td>1.0</td>\n",
       "      <td>0.0</td>\n",
       "      <td>1.0</td>\n",
       "      <td>0.0</td>\n",
       "      <td>0.0</td>\n",
       "      <td>...</td>\n",
       "      <td>0.0</td>\n",
       "      <td>0.0</td>\n",
       "      <td>5191.0</td>\n",
       "      <td>999.0</td>\n",
       "      <td>0.0</td>\n",
       "      <td>1.0</td>\n",
       "      <td>0.0</td>\n",
       "      <td>0.0</td>\n",
       "      <td>1.0</td>\n",
       "      <td>0.0</td>\n",
       "    </tr>\n",
       "    <tr>\n",
       "      <th>4</th>\n",
       "      <td>56.0</td>\n",
       "      <td>1.0</td>\n",
       "      <td>-36.4</td>\n",
       "      <td>93.994</td>\n",
       "      <td>0.0</td>\n",
       "      <td>1.0</td>\n",
       "      <td>0.0</td>\n",
       "      <td>1.0</td>\n",
       "      <td>0.0</td>\n",
       "      <td>0.0</td>\n",
       "      <td>...</td>\n",
       "      <td>0.0</td>\n",
       "      <td>0.0</td>\n",
       "      <td>5191.0</td>\n",
       "      <td>999.0</td>\n",
       "      <td>0.0</td>\n",
       "      <td>1.0</td>\n",
       "      <td>0.0</td>\n",
       "      <td>0.0</td>\n",
       "      <td>1.0</td>\n",
       "      <td>0.0</td>\n",
       "    </tr>\n",
       "  </tbody>\n",
       "</table>\n",
       "<p>5 rows × 65 columns</p>\n",
       "</div>"
      ],
      "text/plain": [
       "    age  campaign  cons.conf.idx  cons.price.idx  contact=cellular  \\\n",
       "0  56.0       1.0          -36.4          93.994               0.0   \n",
       "1  57.0       1.0          -36.4          93.994               0.0   \n",
       "2  37.0       1.0          -36.4          93.994               0.0   \n",
       "3  40.0       1.0          -36.4          93.994               0.0   \n",
       "4  56.0       1.0          -36.4          93.994               0.0   \n",
       "\n",
       "   contact=telephone  day_of_week=fri  day_of_week=mon  day_of_week=thu  \\\n",
       "0                1.0              0.0              1.0              0.0   \n",
       "1                1.0              0.0              1.0              0.0   \n",
       "2                1.0              0.0              1.0              0.0   \n",
       "3                1.0              0.0              1.0              0.0   \n",
       "4                1.0              0.0              1.0              0.0   \n",
       "\n",
       "   day_of_week=tue  ...    month=oct  month=sep  nr.employed  pdays  \\\n",
       "0              0.0  ...          0.0        0.0       5191.0  999.0   \n",
       "1              0.0  ...          0.0        0.0       5191.0  999.0   \n",
       "2              0.0  ...          0.0        0.0       5191.0  999.0   \n",
       "3              0.0  ...          0.0        0.0       5191.0  999.0   \n",
       "4              0.0  ...          0.0        0.0       5191.0  999.0   \n",
       "\n",
       "   poutcome=failure  poutcome=nonexistent  poutcome=success  previous  y=no  \\\n",
       "0               0.0                   1.0               0.0       0.0   1.0   \n",
       "1               0.0                   1.0               0.0       0.0   1.0   \n",
       "2               0.0                   1.0               0.0       0.0   1.0   \n",
       "3               0.0                   1.0               0.0       0.0   1.0   \n",
       "4               0.0                   1.0               0.0       0.0   1.0   \n",
       "\n",
       "   y=yes  \n",
       "0    0.0  \n",
       "1    0.0  \n",
       "2    0.0  \n",
       "3    0.0  \n",
       "4    0.0  \n",
       "\n",
       "[5 rows x 65 columns]"
      ]
     },
     "execution_count": 18,
     "metadata": {},
     "output_type": "execute_result"
    }
   ],
   "source": [
    "vec = DictVectorizer()\n",
    "signal_array = vec.fit_transform(data_dict).toarray()\n",
    "feature_names = vec.get_feature_names()\n",
    "df = pd.DataFrame(signal_array,columns=feature_names)\n",
    "df.head()"
   ]
  },
  {
   "cell_type": "code",
   "execution_count": 19,
   "metadata": {},
   "outputs": [
    {
     "name": "stdout",
     "output_type": "stream",
     "text": [
      "Feature ranking:\n",
      "1. feature age (0.164047)\n",
      "2. feature emp.var.rate (0.117021)\n",
      "3. feature campaign (0.083560)\n",
      "4. feature month=sep (0.049478)\n",
      "5. feature nr.employed (0.034052)\n",
      "6. feature cons.conf.idx (0.027570)\n",
      "7. feature cons.price.idx (0.023012)\n",
      "8. feature poutcome=nonexistent (0.022943)\n",
      "9. feature education=unknown (0.022474)\n",
      "10. feature euribor3m (0.021194)\n",
      "11. feature housing=unknown (0.021185)\n",
      "12. feature housing=yes (0.017653)\n",
      "13. feature marital=divorced (0.016720)\n",
      "14. feature education=basic.9y (0.016283)\n",
      "15. feature education=professional.course (0.016191)\n",
      "16. feature marital=married (0.014782)\n",
      "17. feature day_of_week=mon (0.014618)\n",
      "18. feature day_of_week=wed (0.014473)\n",
      "19. feature poutcome=success (0.014427)\n",
      "20. feature day_of_week=thu (0.014243)\n",
      "21. feature day_of_week=tue (0.014166)\n",
      "22. feature job=student (0.014008)\n",
      "23. feature job=unknown (0.014003)\n",
      "24. feature loan=unknown (0.013831)\n",
      "25. feature day_of_week=fri (0.013753)\n",
      "26. feature education=illiterate (0.011851)\n",
      "27. feature job=admin. (0.011798)\n",
      "28. feature education=basic.6y (0.011275)\n",
      "29. feature loan=yes (0.010415)\n",
      "30. feature job=housemaid (0.009447)\n",
      "31. feature job=self-employed (0.009024)\n",
      "32. feature contact=telephone (0.008300)\n",
      "33. feature duration (0.008157)\n",
      "34. feature contact=cellular (0.007694)\n",
      "35. feature pdays (0.007676)\n",
      "36. feature poutcome=failure (0.007590)\n",
      "37. feature default=unknown (0.007252)\n",
      "38. feature default=no (0.007184)\n",
      "39. feature job=management (0.007027)\n",
      "40. feature education=basic.4y (0.006778)\n",
      "41. feature education=university.degree (0.006760)\n",
      "42. feature job=retired (0.006212)\n",
      "43. feature job=blue-collar (0.005778)\n",
      "44. feature month=nov (0.005462)\n",
      "45. feature job=services (0.005384)\n",
      "46. feature job=technician (0.004991)\n",
      "47. feature month=mar (0.004532)\n",
      "48. feature job=entrepreneur (0.004431)\n",
      "49. feature month=jun (0.004220)\n",
      "50. feature marital=unknown (0.003309)\n",
      "51. feature month=jul (0.003013)\n",
      "52. feature month=dec (0.002521)\n",
      "53. feature month=apr (0.002500)\n",
      "54. feature loan=no (0.002475)\n",
      "55. feature housing=no (0.002460)\n",
      "56. feature month=oct (0.002417)\n",
      "57. feature job=unemployed (0.002256)\n",
      "58. feature month=may (0.002140)\n",
      "59. feature month=aug (0.000844)\n",
      "60. feature marital=single (0.000843)\n",
      "61. feature education=high.school (0.000297)\n",
      "62. feature default=yes (0.000001)\n"
     ]
    },
    {
     "data": {
      "image/png": "[encoded data removed]",
      "text/plain": [
       "<Figure size 432x288 with 1 Axes>"
      ]
     },
     "metadata": {
      "needs_background": "light"
     },
     "output_type": "display_data"
    }
   ],
   "source": [
    "import numpy as np\n",
    "import matplotlib.pyplot as plt\n",
    "\n",
    "from sklearn.datasets import make_classification\n",
    "from sklearn.ensemble import RandomForestClassifier\n",
    "\n",
    "X = signal_array[:,:-2]\n",
    "X = np.hstack((X[:,:14],X[:,15:]))\n",
    "y = signal_array[:,-1]\n",
    "# Build a forest and compute the feature importances\n",
    "forest = RandomForestClassifier(n_estimators=250,\n",
    "                              random_state=0)\n",
    "\n",
    "forest.fit(X, y)\n",
    "importances = forest.feature_importances_\n",
    "std = np.std([tree.feature_importances_ for tree in forest.estimators_],\n",
    "             axis=0)\n",
    "indices = np.argsort(importances)[::-1]\n",
    "\n",
    "# Print the feature ranking\n",
    "print(\"Feature ranking:\")\n",
    "\n",
    "for f in range(X.shape[1]):\n",
    "    print(\"%d. feature %s (%f)\" % (f + 1, feature_names[indices[f]], importances[indices[f]]))\n",
    "\n",
    "# Plot the feature importances of the forest\n",
    "plt.figure()\n",
    "plt.title(\"Feature importances\")\n",
    "plt.bar(range(X.shape[1]), importances[indices],\n",
    "       color=\"r\", yerr=std[indices], align=\"center\")\n",
    "plt.xticks(range(X.shape[1]), indices)\n",
    "plt.xlim([-1, X.shape[1]])\n",
    "plt.show()"
   ]
  },
  {
   "cell_type": "markdown",
   "metadata": {},
   "source": [
    "Using feature importance we can see that below are the top 3 most important features. \n",
    "1. feature age (0.164047)\n",
    "2. feature emp.var.rate (0.117021)\n",
    "3. feature campaign (0.083560)"
   ]
  },
  {
   "cell_type": "markdown",
   "metadata": {},
   "source": [
    "# Conversion vs Feature\n",
    "Now we will plot various features vs if the customer took the policy"
   ]
  },
  {
   "cell_type": "code",
   "execution_count": 21,
   "metadata": {},
   "outputs": [
    {
     "name": "stdout",
     "output_type": "stream",
     "text": [
      "['age', 'campaign', 'cons.conf.idx', 'cons.price.idx', 'contact=cellular', 'contact=telephone', 'day_of_week=fri', 'day_of_week=mon', 'day_of_week=thu', 'day_of_week=tue', 'day_of_week=wed', 'default=no', 'default=unknown', 'default=yes', 'duration', 'education=basic.4y', 'education=basic.6y', 'education=basic.9y', 'education=high.school', 'education=illiterate', 'education=professional.course', 'education=university.degree', 'education=unknown', 'emp.var.rate', 'euribor3m', 'housing=no', 'housing=unknown', 'housing=yes', 'job=admin.', 'job=blue-collar', 'job=entrepreneur', 'job=housemaid', 'job=management', 'job=retired', 'job=self-employed', 'job=services', 'job=student', 'job=technician', 'job=unemployed', 'job=unknown', 'loan=no', 'loan=unknown', 'loan=yes', 'marital=divorced', 'marital=married', 'marital=single', 'marital=unknown', 'month=apr', 'month=aug', 'month=dec', 'month=jul', 'month=jun', 'month=mar', 'month=may', 'month=nov', 'month=oct', 'month=sep', 'nr.employed', 'pdays', 'poutcome=failure', 'poutcome=nonexistent', 'poutcome=success', 'previous', 'y=no', 'y=yes']\n"
     ]
    }
   ],
   "source": [
    "#list of columns we have\n",
    "print(feature_names)"
   ]
  },
  {
   "cell_type": "code",
   "execution_count": 23,
   "metadata": {},
   "outputs": [
    {
     "data": {
      "image/png": "[encoded data removed]",
      "text/plain": [
       "<Figure size 432x288 with 1 Axes>"
      ]
     },
     "metadata": {
      "needs_background": "light"
     },
     "output_type": "display_data"
    }
   ],
   "source": [
    "ax = sns.regplot(x=\"campaign\", y=\"y=yes\", order=1, data=df, truncate=True)"
   ]
  },
  {
   "cell_type": "markdown",
   "metadata": {},
   "source": [
    "ax = sns.regplot(x=\"emp.var.rate\", y=\"y=yes\", order=1, data=df, truncate=True)"
   ]
  },
  {
   "cell_type": "code",
   "execution_count": 22,
   "metadata": {},
   "outputs": [
    {
     "name": "stderr",
     "output_type": "stream",
     "text": [
      "C:\\Users\\SubhamM\\Anaconda3\\lib\\site-packages\\scipy\\stats\\stats.py:1713: FutureWarning:\n",
      "\n",
      "Using a non-tuple sequence for multidimensional indexing is deprecated; use `arr[tuple(seq)]` instead of `arr[seq]`. In the future this will be interpreted as an array index, `arr[np.array(seq)]`, which will result either in an error or a different result.\n",
      "\n"
     ]
    },
    {
     "data": {
      "image/png": "[encoded data removed]",
      "text/plain": [
       "<Figure size 432x288 with 1 Axes>"
      ]
     },
     "metadata": {
      "needs_background": "light"
     },
     "output_type": "display_data"
    }
   ],
   "source": [
    "ax = sns.regplot(x=\"age\", y=\"y=yes\", order=3, data=df, truncate=True)"
   ]
  },
  {
   "cell_type": "markdown",
   "metadata": {},
   "source": [
    "## Observations:\n",
    "    1. After 20 times campaign the converstion is almost zero so we can stop calling after 20 times. If there is any requirement\n",
    "       to further reduce the marketing cost we can stop calling after 15 times as there are very few conversion after it. Here\n",
    "       i am dropping campaign after 20.\n",
    "    2. "
   ]
  },
  {
   "cell_type": "code",
   "execution_count": 25,
   "metadata": {},
   "outputs": [
    {
     "data": {
      "text/plain": [
       "0.043875408967982296"
      ]
     },
     "execution_count": 25,
     "metadata": {},
     "output_type": "execute_result"
    }
   ],
   "source": [
    "# Total Conversion ratio\n",
    "np.sum(df['y=yes'])/np.sum(df['campaign'])"
   ]
  },
  {
   "cell_type": "code",
   "execution_count": 27,
   "metadata": {},
   "outputs": [
    {
     "name": "stdout",
     "output_type": "stream",
     "text": [
      "Nth Call \t Efficiency\n",
      "1 \t\t 0.05584150723511702\n",
      "2 \t\t 0.05143124097511254\n",
      "3 \t\t 0.04423551171393342\n",
      "4 \t\t 0.03261296660117878\n",
      "5 \t\t 0.024077046548956663\n",
      "6 \t\t 0.022156573116691284\n",
      "7 \t\t 0.015793848711554447\n",
      "8 \t\t 0.009566685424873381\n",
      "9 \t\t 0.012345679012345678\n",
      "10 \t\t 0.010968921389396709\n",
      "11 \t\t 0.01380897583429229\n",
      "12 \t\t 0.004335260115606936\n",
      "13 \t\t 0.007054673721340388\n",
      "14 \t\t 0.002105263157894737\n",
      "15 \t\t 0.0049261083743842365\n",
      "16 \t\t 0.0\n",
      "17 \t\t 0.013157894736842105\n",
      "18 \t\t 0.0\n",
      "19 \t\t 0.0\n",
      "20 \t\t 0.0\n",
      "21 \t\t 0.0\n",
      "22 \t\t 0.0\n",
      "23 \t\t 0.008620689655172414\n",
      "24 \t\t 0.0\n",
      "25 \t\t 0.0\n",
      "26 \t\t 0.0\n",
      "27 \t\t 0.0\n",
      "28 \t\t 0.0\n",
      "29 \t\t 0.0\n"
     ]
    }
   ],
   "source": [
    "# Now let's see efficiancy on every additional call\n",
    "print(\"Nth Call \\t Efficiency\")\n",
    "for i in range(1,30):\n",
    "    goo = np.sum(df.loc[df['campaign']==i]['y=yes']) / float(df.loc[df['campaign'] >= i].shape[0])\n",
    "    print (str((i))+\" \\t\\t \"+str(goo))"
   ]
  },
  {
   "cell_type": "code",
   "execution_count": 28,
   "metadata": {},
   "outputs": [
    {
     "name": "stdout",
     "output_type": "stream",
     "text": [
      "0        5191.0\n",
      "1        5191.0\n",
      "2        5191.0\n",
      "3        5191.0\n",
      "4        5191.0\n",
      "5        5191.0\n",
      "6        5191.0\n",
      "7        5191.0\n",
      "8        5191.0\n",
      "9        5191.0\n",
      "10       5191.0\n",
      "11       5191.0\n",
      "12       5191.0\n",
      "13       5191.0\n",
      "14       5191.0\n",
      "15       5191.0\n",
      "16       5191.0\n",
      "17       5191.0\n",
      "18       5191.0\n",
      "19       5191.0\n",
      "20       5191.0\n",
      "21       5191.0\n",
      "22       5191.0\n",
      "23       5191.0\n",
      "24       5191.0\n",
      "25       5191.0\n",
      "26       5191.0\n",
      "27       5191.0\n",
      "28       5191.0\n",
      "29       5191.0\n",
      "          ...  \n",
      "41158    4963.6\n",
      "41159    4963.6\n",
      "41160    4963.6\n",
      "41161    4963.6\n",
      "41162    4963.6\n",
      "41163    4963.6\n",
      "41164    4963.6\n",
      "41165    4963.6\n",
      "41166    4963.6\n",
      "41167    4963.6\n",
      "41168    4963.6\n",
      "41169    4963.6\n",
      "41170    4963.6\n",
      "41171    4963.6\n",
      "41172    4963.6\n",
      "41173    4963.6\n",
      "41174    4963.6\n",
      "41175    4963.6\n",
      "41176    4963.6\n",
      "41177    4963.6\n",
      "41178    4963.6\n",
      "41179    4963.6\n",
      "41180    4963.6\n",
      "41181    4963.6\n",
      "41182    4963.6\n",
      "41183    4963.6\n",
      "41184    4963.6\n",
      "41185    4963.6\n",
      "41186    4963.6\n",
      "41187    4963.6\n",
      "Name: nr.employed, Length: 41188, dtype: float64\n"
     ]
    }
   ],
   "source": [
    "print(data[\"nr.employed\"])"
   ]
  },
  {
   "cell_type": "markdown",
   "metadata": {},
   "source": [
    "In nr.employed  we didn'find thing to optimize."
   ]
  },
  {
   "cell_type": "markdown",
   "metadata": {},
   "source": [
    "## Finding patterns in Age\n",
    "\n",
    "We have divided the age into 10 groups and compared their efficiency in Nth call."
   ]
  },
  {
   "cell_type": "code",
   "execution_count": 30,
   "metadata": {},
   "outputs": [
    {
     "name": "stdout",
     "output_type": "stream",
     "text": [
      "For age upto 30\n",
      "Nth Call \t Efficiency\n",
      "1 \t\t 0.07502708559046588\n",
      "2 \t\t 0.07100309745055992\n",
      "3 \t\t 0.06274509803921569\n",
      "4 \t\t 0.04447739065974796\n",
      "5 \t\t 0.03882352941176471\n",
      "6 \t\t 0.02058319039451115\n",
      "7 \t\t 0.030805687203791468\n",
      "8 \t\t 0.006493506493506494\n",
      "9 \t\t 0.012875536480686695\n",
      "10 \t\t 0.005376344086021506\n",
      "11 \t\t 0.013888888888888888\n",
      "12 \t\t 0.0\n",
      "13 \t\t 0.010869565217391304\n",
      "14 \t\t 0.0\n",
      "15 \t\t 0.014705882352941176\n",
      "16 \t\t 0.0\n",
      "17 \t\t 0.0\n",
      "18 \t\t 0.0\n",
      "19 \t\t 0.0\n",
      "20 \t\t 0.0\n",
      "21 \t\t 0.0\n",
      "22 \t\t 0.0\n",
      "23 \t\t 0.0\n",
      "24 \t\t 0.0\n",
      "25 \t\t 0.0\n",
      "26 \t\t 0.0\n",
      "27 \t\t 0.0\n",
      "28 \t\t 0.0\n",
      "29 \t\t 0.0\n"
     ]
    }
   ],
   "source": [
    "print(\"For age upto 30\")\n",
    "print(\"Nth Call \\t Efficiency\")\n",
    "for i in range(1,30):\n",
    "    num = float(df[(df['age'] <= 30) & (df['campaign']==i) & (df['y=yes']==1)].shape[0])\n",
    "    den = 1+float(df[(df['age'] <= 30) & (df['campaign'] >= i)].shape[0])\n",
    "    print (str((i))+\" \\t\\t \"+str(num/den))\n",
    "#till 7th call"
   ]
  },
  {
   "cell_type": "code",
   "execution_count": 32,
   "metadata": {},
   "outputs": [
    {
     "name": "stdout",
     "output_type": "stream",
     "text": [
      "For age between 30-40\n",
      "Nth Call \t Efficiency\n",
      "1 \t\t 0.04882216526302942\n",
      "2 \t\t 0.042643923240938165\n",
      "3 \t\t 0.04005444293214078\n",
      "4 \t\t 0.028093645484949834\n",
      "5 \t\t 0.02048131080389145\n",
      "6 \t\t 0.024279210925644917\n",
      "7 \t\t 0.007494646680942184\n",
      "8 \t\t 0.008746355685131196\n",
      "9 \t\t 0.011538461538461539\n",
      "10 \t\t 0.011990407673860911\n",
      "11 \t\t 0.015015015015015015\n",
      "12 \t\t 0.0076045627376425855\n",
      "13 \t\t 0.009523809523809525\n",
      "14 \t\t 0.0\n",
      "15 \t\t 0.0\n",
      "16 \t\t 0.0\n",
      "17 \t\t 0.009259259259259259\n",
      "18 \t\t 0.0\n",
      "19 \t\t 0.0\n",
      "20 \t\t 0.0\n",
      "21 \t\t 0.0\n",
      "22 \t\t 0.0\n",
      "23 \t\t 0.02040816326530612\n",
      "24 \t\t 0.0\n",
      "25 \t\t 0.0\n",
      "26 \t\t 0.0\n",
      "27 \t\t 0.0\n",
      "28 \t\t 0.0\n",
      "29 \t\t 0.0\n"
     ]
    }
   ],
   "source": [
    "print(\"For age between 30-40\")\n",
    "print(\"Nth Call \\t Efficiency\")\n",
    "for i in range(1,30):\n",
    "    num = float(df[(df['age'] <= 40) & (df['age'] > 30) & (df['campaign']==i) & (df['y=yes']==1)].shape[0])\n",
    "    den = 1+float(df[(df['age'] <= 40) & (df['age'] > 30) & (df['campaign'] >= i)].shape[0])\n",
    "    print (str((i))+\" \\t\\t \"+str(num/den))"
   ]
  },
  {
   "cell_type": "code",
   "execution_count": 33,
   "metadata": {},
   "outputs": [
    {
     "name": "stdout",
     "output_type": "stream",
     "text": [
      "For age between 40-50\n",
      "Nth Call \t Efficiency\n",
      "1 \t\t 0.03925397910360316\n",
      "2 \t\t 0.036345108695652176\n",
      "3 \t\t 0.03047676523838262\n",
      "4 \t\t 0.027820710973724884\n",
      "5 \t\t 0.020737327188940093\n",
      "6 \t\t 0.016853932584269662\n",
      "7 \t\t 0.008012820512820512\n",
      "8 \t\t 0.008368200836820083\n",
      "9 \t\t 0.005333333333333333\n",
      "10 \t\t 0.013888888888888888\n",
      "11 \t\t 0.017316017316017316\n",
      "12 \t\t 0.005434782608695652\n",
      "13 \t\t 0.006622516556291391\n",
      "14 \t\t 0.007936507936507936\n",
      "15 \t\t 0.0\n",
      "16 \t\t 0.0\n",
      "17 \t\t 0.023529411764705882\n",
      "18 \t\t 0.0\n",
      "19 \t\t 0.0\n",
      "20 \t\t 0.0\n",
      "21 \t\t 0.0\n",
      "22 \t\t 0.0\n",
      "23 \t\t 0.0\n",
      "24 \t\t 0.0\n",
      "25 \t\t 0.0\n",
      "26 \t\t 0.0\n",
      "27 \t\t 0.0\n",
      "28 \t\t 0.0\n",
      "29 \t\t 0.0\n"
     ]
    }
   ],
   "source": [
    "print(\"For age between 40-50\")\n",
    "print(\"Nth Call \\t Efficiency\")\n",
    "for i in range(1,30):\n",
    "    num = float(df[(df['age'] <= 50) & (df['age'] > 40) & (df['campaign']==i) & (df['y=yes']==1)].shape[0])\n",
    "    den = 1+float(df[(df['age'] <= 50) & (df['age'] > 40) & (df['campaign'] >= i)].shape[0])\n",
    "    print (str((i))+\" \\t\\t \"+str(num/den))"
   ]
  },
  {
   "cell_type": "code",
   "execution_count": 34,
   "metadata": {},
   "outputs": [
    {
     "name": "stdout",
     "output_type": "stream",
     "text": [
      "For age between 50-60\n",
      "Nth Call \t Efficiency\n",
      "1 \t\t 0.050709615691277306\n",
      "2 \t\t 0.05120481927710843\n",
      "3 \t\t 0.040806293018682396\n",
      "4 \t\t 0.024681528662420384\n",
      "5 \t\t 0.016766467065868262\n",
      "6 \t\t 0.02120141342756184\n",
      "7 \t\t 0.022004889975550123\n",
      "8 \t\t 0.013559322033898305\n",
      "9 \t\t 0.024489795918367346\n",
      "10 \t\t 0.009900990099009901\n",
      "11 \t\t 0.0\n",
      "12 \t\t 0.0\n",
      "13 \t\t 0.0\n",
      "14 \t\t 0.0\n",
      "15 \t\t 0.011363636363636364\n",
      "16 \t\t 0.0\n",
      "17 \t\t 0.016129032258064516\n",
      "18 \t\t 0.0\n",
      "19 \t\t 0.0\n",
      "20 \t\t 0.0\n",
      "21 \t\t 0.0\n",
      "22 \t\t 0.0\n",
      "23 \t\t 0.0\n",
      "24 \t\t 0.0\n",
      "25 \t\t 0.0\n",
      "26 \t\t 0.0\n",
      "27 \t\t 0.0\n",
      "28 \t\t 0.0\n",
      "29 \t\t 0.0\n"
     ]
    }
   ],
   "source": [
    "print(\"For age between 50-60\")\n",
    "print(\"Nth Call \\t Efficiency\")\n",
    "for i in range(1,30):\n",
    "    num = float(df[(df['age'] <= 60) & (df['age'] > 50) & (df['campaign']==i) & (df['y=yes']==1)].shape[0])\n",
    "    den = 1+float(df[(df['age'] <= 60) & (df['age'] > 50) & (df['campaign'] >= i)].shape[0])\n",
    "    print (str((i))+\" \\t\\t \"+str(num/den))\n",
    "#till 9th call"
   ]
  },
  {
   "cell_type": "code",
   "execution_count": null,
   "metadata": {},
   "outputs": [],
   "source": [
    "print(\"For age above 60\")\n",
    "print(\"Nth Call \\t Efficiency\")\n",
    "for i in range(1,30):\n",
    "    num = float(df[(df['age'] > 60) & (df['campaign']==i) & (df['y=yes']==1)].shape[0])\n",
    "    den = float(df[(df['age'] > 60) & (df['campaign'] >= i)].shape[0])+1\n",
    "    print (str((i))+\" \\t\\t \"+str(num/den))"
   ]
  },
  {
   "cell_type": "markdown",
   "metadata": {},
   "source": [
    "There is no extreme pattern observed in age wise conversion upto Nth call. If required we can call till 9th and 7th time \n",
    "for age group 50-60 and upto 30 age."
   ]
  },
  {
   "cell_type": "code",
   "execution_count": 36,
   "metadata": {},
   "outputs": [
    {
     "name": "stdout",
     "output_type": "stream",
     "text": [
      "105754.0\n"
     ]
    }
   ],
   "source": [
    "# Calculate how many calls were made in total\n",
    "total_calls = np.sum(df['campaign'])\n",
    "print(total_calls)"
   ]
  },
  {
   "cell_type": "code",
   "execution_count": 37,
   "metadata": {},
   "outputs": [
    {
     "name": "stdout",
     "output_type": "stream",
     "text": [
      "12040.0\n"
     ]
    }
   ],
   "source": [
    "# Calculate how many calls were made after the 6th call\n",
    "extra_calls = np.sum(df[df['campaign']>6]['campaign']) - 6*df[df['campaign']>6].shape[0]\n",
    "print(extra_calls)"
   ]
  },
  {
   "cell_type": "code",
   "execution_count": 38,
   "metadata": {},
   "outputs": [
    {
     "name": "stdout",
     "output_type": "stream",
     "text": [
      "11.384912154622993\n"
     ]
    }
   ],
   "source": [
    "# Calculate reduction in marketing cost\n",
    "reduction = ( extra_calls *100 ) / total_calls\n",
    "print(reduction)"
   ]
  },
  {
   "cell_type": "code",
   "execution_count": 40,
   "metadata": {},
   "outputs": [
    {
     "name": "stdout",
     "output_type": "stream",
     "text": [
      "4640.0\n"
     ]
    }
   ],
   "source": [
    "total_sales=np.float(df[df['y=yes']==1].shape[0])\n",
    "print(total_sales)"
   ]
  },
  {
   "cell_type": "code",
   "execution_count": 41,
   "metadata": {},
   "outputs": [
    {
     "name": "stdout",
     "output_type": "stream",
     "text": [
      "4529.0\n"
     ]
    }
   ],
   "source": [
    "less_costly_sales=np.float(df[(df['campaign'] <= 6) & (df['y=yes']==1)].shape[0])\n",
    "print(less_costly_sales)"
   ]
  },
  {
   "cell_type": "code",
   "execution_count": 42,
   "metadata": {},
   "outputs": [
    {
     "name": "stdout",
     "output_type": "stream",
     "text": [
      "97.60775862068965\n"
     ]
    }
   ],
   "source": [
    "sales_percent=100*less_costly_sales/total_sales\n",
    "print(sales_percent)"
   ]
  },
  {
   "cell_type": "markdown",
   "metadata": {},
   "source": [
    "Now suppose we can call till 9th and 7th time for age group 50-60 and upto 30 age."
   ]
  },
  {
   "cell_type": "code",
   "execution_count": null,
   "metadata": {},
   "outputs": [],
   "source": [
    "# Calculate how many calls were made after the 6th call\n",
    "extra_calls = np.sum(df[df['campaign']>6]['campaign']) - 6*df[df['campaign']>6].shape[0]\n",
    "print(extra_calls)"
   ]
  }
 ],
 "metadata": {
  "kernelspec": {
   "display_name": "Python 3",
   "language": "python",
   "name": "python3"
  },
  "language_info": {
   "codemirror_mode": {
    "name": "ipython",
    "version": 3
   },
   "file_extension": ".py",
   "mimetype": "text/x-python",
   "name": "python",
   "nbconvert_exporter": "python",
   "pygments_lexer": "ipython3",
   "version": "3.7.1"
  }
 },
 "nbformat": 4,
 "nbformat_minor": 2
}
